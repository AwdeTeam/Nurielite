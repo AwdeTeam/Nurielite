{
 "cells": [
  {
   "cell_type": "markdown",
   "metadata": {},
   "source": [
    "<h1 style=\"text-align:center;\">Machine Learning Development</h1>\n",
    "<p>This page is dedicated to developing and exploring the execution of ML algorithms using <code>Numpy</code> and <code>Scipy</code> along with <code>Matplotlib</code> and <code>QT Python</code> as display tools.</p>\n",
    "<p>When possible, try to separate the actual implementation into a single cell and a single class to minimize difficulty when translating to <code>PyAlgorithm</code> interface form.</p>"
   ]
  },
  {
   "cell_type": "markdown",
   "metadata": {},
   "source": [
    "<h2 style=\"text-align:center;\">K-Means</h2>\n"
   ]
  }
 ],
 "metadata": {
  "anaconda-cloud": {},
  "kernelspec": {
   "display_name": "Python [conda root]",
   "language": "python",
   "name": "conda-root-py"
  },
  "language_info": {
   "codemirror_mode": {
    "name": "ipython",
    "version": 3
   },
   "file_extension": ".py",
   "mimetype": "text/x-python",
   "name": "python",
   "nbconvert_exporter": "python",
   "pygments_lexer": "ipython3",
   "version": "3.5.2"
  }
 },
 "nbformat": 4,
 "nbformat_minor": 1
}
